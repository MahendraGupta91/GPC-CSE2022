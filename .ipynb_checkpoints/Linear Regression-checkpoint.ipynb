{
 "cells": [
  {
   "cell_type": "markdown",
   "metadata": {},
   "source": [
    "# Linear Regression\n"
   ]
  },
  {
   "cell_type": "code",
   "execution_count": 2,
   "metadata": {},
   "outputs": [],
   "source": [
    "import matplotlib.pyplot as plt"
   ]
  },
  {
   "cell_type": "code",
   "execution_count": 3,
   "metadata": {},
   "outputs": [
    {
     "data": {
      "text/html": [
       "<div>\n",
       "<style scoped>\n",
       "    .dataframe tbody tr th:only-of-type {\n",
       "        vertical-align: middle;\n",
       "    }\n",
       "\n",
       "    .dataframe tbody tr th {\n",
       "        vertical-align: top;\n",
       "    }\n",
       "\n",
       "    .dataframe thead th {\n",
       "        text-align: right;\n",
       "    }\n",
       "</style>\n",
       "<table border=\"1\" class=\"dataframe\">\n",
       "  <thead>\n",
       "    <tr style=\"text-align: right;\">\n",
       "      <th></th>\n",
       "      <th>country</th>\n",
       "      <th>GDP</th>\n",
       "      <th>happyScore</th>\n",
       "      <th>region</th>\n",
       "      <th>avg_income</th>\n",
       "    </tr>\n",
       "  </thead>\n",
       "  <tbody>\n",
       "    <tr>\n",
       "      <td>0</td>\n",
       "      <td>Armenia</td>\n",
       "      <td>0.76821</td>\n",
       "      <td>4.350</td>\n",
       "      <td>'Central and Eastern Europe'</td>\n",
       "      <td>2096.760000</td>\n",
       "    </tr>\n",
       "    <tr>\n",
       "      <td>1</td>\n",
       "      <td>Angola</td>\n",
       "      <td>0.75778</td>\n",
       "      <td>4.033</td>\n",
       "      <td>'Sub-Saharan Africa'</td>\n",
       "      <td>1448.880000</td>\n",
       "    </tr>\n",
       "    <tr>\n",
       "      <td>2</td>\n",
       "      <td>Argentina</td>\n",
       "      <td>1.05351</td>\n",
       "      <td>6.574</td>\n",
       "      <td>'Latin America and Caribbean'</td>\n",
       "      <td>7101.120000</td>\n",
       "    </tr>\n",
       "    <tr>\n",
       "      <td>3</td>\n",
       "      <td>Austria</td>\n",
       "      <td>1.33723</td>\n",
       "      <td>7.200</td>\n",
       "      <td>'Western Europe'</td>\n",
       "      <td>19457.040000</td>\n",
       "    </tr>\n",
       "    <tr>\n",
       "      <td>4</td>\n",
       "      <td>Australia</td>\n",
       "      <td>1.33358</td>\n",
       "      <td>7.284</td>\n",
       "      <td>'Australia and New Zealand'</td>\n",
       "      <td>19917.000000</td>\n",
       "    </tr>\n",
       "    <tr>\n",
       "      <td>5</td>\n",
       "      <td>Azerbaijan</td>\n",
       "      <td>1.02389</td>\n",
       "      <td>5.212</td>\n",
       "      <td>'Central and Eastern Europe'</td>\n",
       "      <td>3381.600000</td>\n",
       "    </tr>\n",
       "    <tr>\n",
       "      <td>6</td>\n",
       "      <td>Bangladesh</td>\n",
       "      <td>0.39753</td>\n",
       "      <td>4.694</td>\n",
       "      <td>'Southern Asia'</td>\n",
       "      <td>1265.340000</td>\n",
       "    </tr>\n",
       "    <tr>\n",
       "      <td>7</td>\n",
       "      <td>Belgium</td>\n",
       "      <td>1.30782</td>\n",
       "      <td>6.937</td>\n",
       "      <td>'Western Europe'</td>\n",
       "      <td>17168.505000</td>\n",
       "    </tr>\n",
       "    <tr>\n",
       "      <td>8</td>\n",
       "      <td>Burkina Faso</td>\n",
       "      <td>0.25812</td>\n",
       "      <td>3.587</td>\n",
       "      <td>'Sub-Saharan Africa'</td>\n",
       "      <td>870.840000</td>\n",
       "    </tr>\n",
       "    <tr>\n",
       "      <td>9</td>\n",
       "      <td>Bulgaria</td>\n",
       "      <td>1.01216</td>\n",
       "      <td>4.218</td>\n",
       "      <td>'Central and Eastern Europe'</td>\n",
       "      <td>5354.820000</td>\n",
       "    </tr>\n",
       "    <tr>\n",
       "      <td>10</td>\n",
       "      <td>Burundi</td>\n",
       "      <td>0.01530</td>\n",
       "      <td>2.905</td>\n",
       "      <td>'Sub-Saharan Africa'</td>\n",
       "      <td>572.880000</td>\n",
       "    </tr>\n",
       "    <tr>\n",
       "      <td>11</td>\n",
       "      <td>Benin</td>\n",
       "      <td>0.28665</td>\n",
       "      <td>3.340</td>\n",
       "      <td>'Sub-Saharan Africa'</td>\n",
       "      <td>989.040000</td>\n",
       "    </tr>\n",
       "    <tr>\n",
       "      <td>12</td>\n",
       "      <td>Bolivia</td>\n",
       "      <td>0.68133</td>\n",
       "      <td>5.890</td>\n",
       "      <td>'Latin America and Caribbean'</td>\n",
       "      <td>3985.710000</td>\n",
       "    </tr>\n",
       "    <tr>\n",
       "      <td>13</td>\n",
       "      <td>Brazil</td>\n",
       "      <td>0.98124</td>\n",
       "      <td>6.983</td>\n",
       "      <td>'Latin America and Caribbean'</td>\n",
       "      <td>5567.235000</td>\n",
       "    </tr>\n",
       "    <tr>\n",
       "      <td>14</td>\n",
       "      <td>Botswana</td>\n",
       "      <td>0.99355</td>\n",
       "      <td>4.332</td>\n",
       "      <td>'Sub-Saharan Africa'</td>\n",
       "      <td>3484.680000</td>\n",
       "    </tr>\n",
       "    <tr>\n",
       "      <td>15</td>\n",
       "      <td>Belarus</td>\n",
       "      <td>1.03192</td>\n",
       "      <td>5.813</td>\n",
       "      <td>'Central and Eastern Europe'</td>\n",
       "      <td>5453.933333</td>\n",
       "    </tr>\n",
       "    <tr>\n",
       "      <td>16</td>\n",
       "      <td>Canada</td>\n",
       "      <td>1.32629</td>\n",
       "      <td>7.427</td>\n",
       "      <td>'North America'</td>\n",
       "      <td>20190.780000</td>\n",
       "    </tr>\n",
       "    <tr>\n",
       "      <td>17</td>\n",
       "      <td>Switzerland</td>\n",
       "      <td>1.39651</td>\n",
       "      <td>7.587</td>\n",
       "      <td>'Western Europe'</td>\n",
       "      <td>23400.040000</td>\n",
       "    </tr>\n",
       "    <tr>\n",
       "      <td>18</td>\n",
       "      <td>Chile</td>\n",
       "      <td>1.10715</td>\n",
       "      <td>6.670</td>\n",
       "      <td>'Latin America and Caribbean'</td>\n",
       "      <td>7557.990000</td>\n",
       "    </tr>\n",
       "    <tr>\n",
       "      <td>19</td>\n",
       "      <td>Cameroon</td>\n",
       "      <td>0.42250</td>\n",
       "      <td>4.252</td>\n",
       "      <td>'Sub-Saharan Africa'</td>\n",
       "      <td>1490.520000</td>\n",
       "    </tr>\n",
       "  </tbody>\n",
       "</table>\n",
       "</div>"
      ],
      "text/plain": [
       "         country      GDP  happyScore                         region  \\\n",
       "0        Armenia  0.76821       4.350   'Central and Eastern Europe'   \n",
       "1         Angola  0.75778       4.033           'Sub-Saharan Africa'   \n",
       "2      Argentina  1.05351       6.574  'Latin America and Caribbean'   \n",
       "3        Austria  1.33723       7.200               'Western Europe'   \n",
       "4      Australia  1.33358       7.284    'Australia and New Zealand'   \n",
       "5     Azerbaijan  1.02389       5.212   'Central and Eastern Europe'   \n",
       "6     Bangladesh  0.39753       4.694                'Southern Asia'   \n",
       "7        Belgium  1.30782       6.937               'Western Europe'   \n",
       "8   Burkina Faso  0.25812       3.587           'Sub-Saharan Africa'   \n",
       "9       Bulgaria  1.01216       4.218   'Central and Eastern Europe'   \n",
       "10       Burundi  0.01530       2.905           'Sub-Saharan Africa'   \n",
       "11         Benin  0.28665       3.340           'Sub-Saharan Africa'   \n",
       "12       Bolivia  0.68133       5.890  'Latin America and Caribbean'   \n",
       "13        Brazil  0.98124       6.983  'Latin America and Caribbean'   \n",
       "14      Botswana  0.99355       4.332           'Sub-Saharan Africa'   \n",
       "15       Belarus  1.03192       5.813   'Central and Eastern Europe'   \n",
       "16        Canada  1.32629       7.427                'North America'   \n",
       "17   Switzerland  1.39651       7.587               'Western Europe'   \n",
       "18         Chile  1.10715       6.670  'Latin America and Caribbean'   \n",
       "19      Cameroon  0.42250       4.252           'Sub-Saharan Africa'   \n",
       "\n",
       "      avg_income  \n",
       "0    2096.760000  \n",
       "1    1448.880000  \n",
       "2    7101.120000  \n",
       "3   19457.040000  \n",
       "4   19917.000000  \n",
       "5    3381.600000  \n",
       "6    1265.340000  \n",
       "7   17168.505000  \n",
       "8     870.840000  \n",
       "9    5354.820000  \n",
       "10    572.880000  \n",
       "11    989.040000  \n",
       "12   3985.710000  \n",
       "13   5567.235000  \n",
       "14   3484.680000  \n",
       "15   5453.933333  \n",
       "16  20190.780000  \n",
       "17  23400.040000  \n",
       "18   7557.990000  \n",
       "19   1490.520000  "
      ]
     },
     "execution_count": 3,
     "metadata": {},
     "output_type": "execute_result"
    }
   ],
   "source": [
    "import pandas as pd\n",
    "import numpy as np\n",
    "import matplotlib as mpl\n",
    "import matplotlib.pyplot as plt\n",
    "from matplotlib.pyplot import figure\n",
    "\n",
    "# import dataset\n",
    "df = pd.read_csv(\"https://raw.githubusercontent.com/softhints/dataplotplus/master/data/happyscore_income.csv\")\n",
    "\n",
    "df[['country', 'GDP', 'happyScore', 'region', 'avg_income']].head(20)"
   ]
  },
  {
   "cell_type": "code",
   "execution_count": 4,
   "metadata": {},
   "outputs": [],
   "source": [
    "import random\n",
    "a=range(10)"
   ]
  },
  {
   "cell_type": "code",
   "execution_count": 5,
   "metadata": {},
   "outputs": [],
   "source": [
    "x=[2,4,4,6,7,8,9,12]\n",
    "y=[5,23,45,65,12,44,33,77]"
   ]
  },
  {
   "cell_type": "code",
   "execution_count": 6,
   "metadata": {},
   "outputs": [
    {
     "data": {
      "text/plain": [
       "8"
      ]
     },
     "execution_count": 6,
     "metadata": {},
     "output_type": "execute_result"
    }
   ],
   "source": [
    "#len(x)\n",
    "len(y)"
   ]
  },
  {
   "cell_type": "code",
   "execution_count": 7,
   "metadata": {},
   "outputs": [
    {
     "data": {
      "text/plain": [
       "<Figure size 1000x1000 with 0 Axes>"
      ]
     },
     "execution_count": 7,
     "metadata": {},
     "output_type": "execute_result"
    },
    {
     "data": {
      "text/plain": [
       "<Figure size 1000x1000 with 0 Axes>"
      ]
     },
     "metadata": {},
     "output_type": "display_data"
    }
   ],
   "source": [
    "figure(num=None, figsize=(10, 10), dpi=100, facecolor='w', edgecolor='k')"
   ]
  },
  {
   "cell_type": "code",
   "execution_count": 8,
   "metadata": {},
   "outputs": [],
   "source": [
    "col_x = 'happyScore'\n",
    "col_y = 'GDP'"
   ]
  },
  {
   "cell_type": "code",
   "execution_count": 9,
   "metadata": {},
   "outputs": [
    {
     "name": "stdout",
     "output_type": "stream",
     "text": [
      "5.421909909909911 1.1808005493158176\n",
      "0.8419090990990992 0.38759050431315567\n"
     ]
    }
   ],
   "source": [
    "# calculate the standard deviation and the mean\n",
    "x_mean = df[col_x].mean()\n",
    "x_stdev = df[col_x].std()\n",
    "\n",
    "y_mean = df[col_y].mean()\n",
    "y_stdev = df[col_y].std()\n",
    "\n",
    "print(x_mean, x_stdev)\n",
    "print(y_mean, y_stdev)"
   ]
  },
  {
   "cell_type": "code",
   "execution_count": 10,
   "metadata": {},
   "outputs": [],
   "source": [
    "# calculate the normalised values on x and y\n",
    "x_min = min(df[col_x])\n",
    "x_max = max(df[col_x])\n",
    "\n",
    "norm_x = ((df[col_x] - x_min)/(x_max - x_min))\n",
    "df['norm_x'] = norm_x\n",
    "\n",
    "y_min = min(df[col_y])\n",
    "y_max = max(df[col_y])\n",
    "\n",
    "norm_y = ((df[col_y] - y_min)/(y_max - y_min))\n",
    "df['norm_y'] = norm_y"
   ]
  },
  {
   "cell_type": "code",
   "execution_count": 11,
   "metadata": {},
   "outputs": [
    {
     "data": {
      "text/plain": [
       "Text(0.5, 1.0, 'Kmeans Scatterplot of World Happiness vs GDP')"
      ]
     },
     "execution_count": 11,
     "metadata": {},
     "output_type": "execute_result"
    },
    {
     "data": {
      "image/png": "[encoded data removed]",
      "text/plain": [
       "<Figure size 432x288 with 1 Axes>"
      ]
     },
     "metadata": {
      "needs_background": "light"
     },
     "output_type": "display_data"
    }
   ],
   "source": [
    "plt.xlabel(col_x)\n",
    "plt.ylabel(col_y)\n",
    "\n",
    "plt.scatter(df.norm_x, df.norm_y, alpha = 0.25, s = 100, color='GREEN')\n",
    "plt.title(\"Kmeans Scatterplot of World Happiness vs GDP\", fontsize=18)"
   ]
  },
  {
   "cell_type": "code",
   "execution_count": 13,
   "metadata": {},
   "outputs": [
    {
     "ename": "AttributeError",
     "evalue": "module 'pandas' has no attribute 'dataframe'",
     "output_type": "error",
     "traceback": [
      "\u001b[1;31m---------------------------------------------------------------------------\u001b[0m",
      "\u001b[1;31mAttributeError\u001b[0m                            Traceback (most recent call last)",
      "\u001b[1;32m<ipython-input-13-df3a3db1ff9f>\u001b[0m in \u001b[0;36m<module>\u001b[1;34m\u001b[0m\n\u001b[1;32m----> 1\u001b[1;33m \u001b[0mdf_data\u001b[0m\u001b[1;33m=\u001b[0m\u001b[0mpd\u001b[0m\u001b[1;33m.\u001b[0m\u001b[0mdataframe\u001b[0m\u001b[1;33m(\u001b[0m\u001b[1;33m[\u001b[0m\u001b[0mnorm_x\u001b[0m\u001b[1;33m,\u001b[0m\u001b[0mnorm_y\u001b[0m\u001b[1;33m]\u001b[0m\u001b[1;33m)\u001b[0m\u001b[1;33m\u001b[0m\u001b[1;33m\u001b[0m\u001b[0m\n\u001b[0m",
      "\u001b[1;32m~\\Anaconda3\\lib\\site-packages\\pandas\\__init__.py\u001b[0m in \u001b[0;36m__getattr__\u001b[1;34m(name)\u001b[0m\n\u001b[0;32m    212\u001b[0m \u001b[1;33m\u001b[0m\u001b[0m\n\u001b[0;32m    213\u001b[0m             \u001b[1;32mreturn\u001b[0m \u001b[0mPanel\u001b[0m\u001b[1;33m\u001b[0m\u001b[1;33m\u001b[0m\u001b[0m\n\u001b[1;32m--> 214\u001b[1;33m         \u001b[1;32mraise\u001b[0m \u001b[0mAttributeError\u001b[0m\u001b[1;33m(\u001b[0m\u001b[1;34m\"module 'pandas' has no attribute '{}'\"\u001b[0m\u001b[1;33m.\u001b[0m\u001b[0mformat\u001b[0m\u001b[1;33m(\u001b[0m\u001b[0mname\u001b[0m\u001b[1;33m)\u001b[0m\u001b[1;33m)\u001b[0m\u001b[1;33m\u001b[0m\u001b[1;33m\u001b[0m\u001b[0m\n\u001b[0m\u001b[0;32m    215\u001b[0m \u001b[1;33m\u001b[0m\u001b[0m\n\u001b[0;32m    216\u001b[0m \u001b[1;33m\u001b[0m\u001b[0m\n",
      "\u001b[1;31mAttributeError\u001b[0m: module 'pandas' has no attribute 'dataframe'"
     ]
    }
   ],
   "source": [
    "#df_data=pd.dataframe([norm_x,norm_y])"
   ]
  },
  {
   "cell_type": "code",
   "execution_count": 14,
   "metadata": {},
   "outputs": [],
   "source": [
    "Data_df=pd.DataFrame([norm_x,norm_y]).transpose()"
   ]
  },
  {
   "cell_type": "code",
   "execution_count": 18,
   "metadata": {},
   "outputs": [
    {
     "data": {
      "text/plain": [
       "111"
      ]
     },
     "execution_count": 18,
     "metadata": {},
     "output_type": "execute_result"
    }
   ],
   "source": [
    "len(norm_x)"
   ]
  },
  {
   "cell_type": "code",
   "execution_count": 20,
   "metadata": {},
   "outputs": [],
   "source": [
    "X=np.array(norm_x)"
   ]
  },
  {
   "cell_type": "code",
   "execution_count": 36,
   "metadata": {},
   "outputs": [
    {
     "data": {
      "text/plain": [
       "array([0.31823926, 0.2514743 , 0.78664701, 0.918492  , 0.93618366,\n",
       "       0.49978939, 0.39069082, 0.86310025, 0.15754002, 0.29043808,\n",
       "       0.01390059, 0.10551811, 0.64258635, 0.87278854, 0.31444819,\n",
       "       0.626369  , 0.9663016 , 1.        , 0.80686605, 0.29759899,\n",
       "       0.48462511, 0.76621735, 0.92396799, 0.60025274, 0.77211457,\n",
       "       0.82371525, 0.32224094, 0.9873631 , 0.43091828, 0.66048863,\n",
       "       0.54549284, 0.73504634, 0.35235889, 0.96187869, 0.78685762,\n",
       "       0.22262005, 0.8483572 , 0.30707666, 0.3778433 , 0.42502106,\n",
       "       0.41048863, 0.61499579, 0.41301601, 0.53917439, 0.8637321 ,\n",
       "       0.93491997, 0.36352148, 0.3890059 , 0.99452401, 0.65480202,\n",
       "       0.66301601, 0.33277169, 0.51537489, 0.2064027 , 0.57919124,\n",
       "       0.63521483, 0.42902275, 0.30160067, 0.36478517, 0.43365628,\n",
       "       0.6305813 , 0.86499579, 0.47577928, 0.457877  , 0.64237574,\n",
       "       0.17733783, 0.24347094, 0.42860152, 0.33635215, 0.55560236,\n",
       "       0.915754  , 0.61731255, 0.44903117, 0.21187869, 0.51158382,\n",
       "       0.62952822, 0.95598147, 0.98631003, 0.35278012, 0.83129739,\n",
       "       0.62868576, 0.4705139 , 0.49599832, 0.62173547, 0.47662174,\n",
       "       0.64005897, 0.48125527, 0.48104465, 0.60593934, 0.13184499,\n",
       "       0.95303286, 0.63374052, 0.66470093, 0.35130581, 0.22430497,\n",
       "       0.69313395, 0.17438922, 0.        , 0.76158382, 0.4100674 ,\n",
       "       0.40016849, 0.52506318, 0.19839933, 0.38795282, 0.22999158,\n",
       "       0.90143218, 0.76790227, 0.5309604 , 0.37973884, 0.48230834,\n",
       "       0.37299916])"
      ]
     },
     "execution_count": 36,
     "metadata": {},
     "output_type": "execute_result"
    }
   ],
   "source": [
    "X"
   ]
  },
  {
   "cell_type": "code",
   "execution_count": 27,
   "metadata": {},
   "outputs": [],
   "source": [
    "Y=np.array(norm_y)"
   ]
  },
  {
   "cell_type": "code",
   "execution_count": 35,
   "metadata": {},
   "outputs": [
    {
     "data": {
      "text/plain": [
       "array([0.48618438, 0.47944931, 0.67041411, 0.85362357, 0.85126662,\n",
       "       0.65128728, 0.24682134, 0.83463235, 0.15679868, 0.64371275,\n",
       "       0.        , 0.17522165, 0.43008246, 0.62374646, 0.63169552,\n",
       "       0.65647258, 0.84655917, 0.89190306, 0.70505163, 0.26294548,\n",
       "       0.56490659, 0.58330374, 0.60730591, 0.77025849, 0.75143516,\n",
       "       0.84761173, 0.27440737, 0.84603612, 0.56829673, 0.54805277,\n",
       "       0.73384519, 0.78445186, 0.11328223, 0.82328669, 0.81523431,\n",
       "       0.67475995, 0.80786641, 0.46919496, 0.34242321, 0.73534331,\n",
       "       0.37454233, 0.68915996, 0.71395639, 0.52496755, 0.85280348,\n",
       "       0.78345742, 0.40661626, 0.64154306, 0.83108078, 0.79803178,\n",
       "       0.81068829, 0.22562814, 0.29638192, 0.28740613, 0.50766817,\n",
       "       0.71498957, 0.37153318, 0.52946836, 0.03609689, 0.2325634 ,\n",
       "       0.7309329 , 1.        , 0.7089067 , 0.46460374, 0.37399991,\n",
       "       0.12458915, 0.15849052, 0.52491589, 0.2833315 , 0.64077463,\n",
       "       0.64912405, 0.71648769, 0.04376828, 0.03493455, 0.41266039,\n",
       "       0.37320565, 0.84859325, 0.93225538, 0.22256733, 0.67688443,\n",
       "       0.5714092 , 0.44557377, 0.37461336, 0.71693325, 0.73912089,\n",
       "       0.480786  , 0.66391797, 0.58454356, 0.72474025, 0.13352619,\n",
       "       0.85005909, 0.7553096 , 0.74493255, 0.20336947, 0.22580249,\n",
       "       0.48381452, 0.21091818, 0.12487327, 0.61448654, 0.24226242,\n",
       "       0.55910139, 0.67523779, 0.17428533, 0.50611193, 0.12638431,\n",
       "       0.89061158, 0.6756769 , 0.39833141, 0.58451773, 0.29386353,\n",
       "       0.16511581])"
      ]
     },
     "execution_count": 35,
     "metadata": {},
     "output_type": "execute_result"
    }
   ],
   "source": [
    "Y"
   ]
  },
  {
   "cell_type": "code",
   "execution_count": 32,
   "metadata": {},
   "outputs": [
    {
     "name": "stdout",
     "output_type": "stream",
     "text": [
      "mean(X)= 0.5439995597956844   mean(Y)= 0.5337748684943913\n"
     ]
    }
   ],
   "source": [
    "X_mean=sum(X)/len(X)\n",
    "Y_mean=sum(Y)/len(Y)\n",
    "print(\"mean(X)=\",X_mean,\"  mean(Y)=\",Y_mean)"
   ]
  },
  {
   "cell_type": "code",
   "execution_count": 40,
   "metadata": {},
   "outputs": [],
   "source": [
    "XiYi=X*Y"
   ]
  },
  {
   "cell_type": "code",
   "execution_count": 41,
   "metadata": {},
   "outputs": [
    {
     "data": {
      "text/plain": [
       "array([0.15472296, 0.12056918, 0.52737926, 0.78404642, 0.7969419 ,\n",
       "       0.32550647, 0.09643083, 0.72037139, 0.02470207, 0.18695869,\n",
       "       0.        , 0.01848906, 0.27636512, 0.54439876, 0.19863551,\n",
       "       0.41119407, 0.81803148, 0.89190306, 0.56888222, 0.07825231,\n",
       "       0.27376792, 0.44693745, 0.56113122, 0.46234977, 0.58019404,\n",
       "       0.69819071, 0.08842529, 0.83534485, 0.24488945, 0.36198262,\n",
       "       0.4003073 , 0.57660847, 0.039916  , 0.79190192, 0.64147333,\n",
       "       0.15021509, 0.68535929, 0.14407882, 0.12938231, 0.31253639,\n",
       "       0.15374537, 0.42383047, 0.29487542, 0.28304906, 0.73659374,\n",
       "       0.73246999, 0.14781374, 0.24956403, 0.82652979, 0.52255283,\n",
       "       0.53749932, 0.07508266, 0.1527478 , 0.0593214 , 0.29403695,\n",
       "       0.45417198, 0.15939619, 0.15968801, 0.01316761, 0.10085258,\n",
       "       0.46091262, 0.86499579, 0.33728311, 0.21273137, 0.24024847,\n",
       "       0.02209437, 0.03858783, 0.22497975, 0.09529916, 0.3560159 ,\n",
       "       0.59443795, 0.44229684, 0.01965332, 0.00740189, 0.21111038,\n",
       "       0.23494349, 0.81123942, 0.91949282, 0.07851733, 0.56269226,\n",
       "       0.35923683, 0.20964865, 0.1858076 , 0.44574283, 0.35228108,\n",
       "       0.30773139, 0.31951402, 0.28119155, 0.43914863, 0.01760476,\n",
       "       0.81013424, 0.4786703 , 0.49515736, 0.07144488, 0.05064862,\n",
       "       0.33534827, 0.03678186, 0.        , 0.46798301, 0.09934392,\n",
       "       0.22373476, 0.35454251, 0.03457809, 0.19634755, 0.02906733,\n",
       "       0.80282594, 0.51885383, 0.2114982 , 0.22196408, 0.14173283,\n",
       "       0.06158806])"
      ]
     },
     "execution_count": 41,
     "metadata": {},
     "output_type": "execute_result"
    }
   ],
   "source": [
    "XiYi"
   ]
  },
  {
   "cell_type": "code",
   "execution_count": 43,
   "metadata": {},
   "outputs": [],
   "source": [
    "sum_XiYi=sum(XiYi)"
   ]
  },
  {
   "cell_type": "code",
   "execution_count": 44,
   "metadata": {},
   "outputs": [
    {
     "data": {
      "text/plain": [
       "37.64084894741626"
      ]
     },
     "execution_count": 44,
     "metadata": {},
     "output_type": "execute_result"
    }
   ],
   "source": [
    "sum_XiYi"
   ]
  },
  {
   "cell_type": "code",
   "execution_count": 38,
   "metadata": {},
   "outputs": [
    {
     "data": {
      "text/plain": [
       "0.15472295731475882"
      ]
     },
     "execution_count": 38,
     "metadata": {},
     "output_type": "execute_result"
    }
   ],
   "source": [
    "0.31823926*0.48618438"
   ]
  },
  {
   "cell_type": "code",
   "execution_count": 48,
   "metadata": {},
   "outputs": [],
   "source": [
    "Xi_sqr=X*X"
   ]
  },
  {
   "cell_type": "code",
   "execution_count": 49,
   "metadata": {},
   "outputs": [
    {
     "data": {
      "text/plain": [
       "array([1.01276226e-01, 6.32393261e-02, 6.18813517e-01, 8.43627548e-01,\n",
       "       8.76439838e-01, 2.49789429e-01, 1.52639315e-01, 7.44942046e-01,\n",
       "       2.48188569e-02, 8.43542778e-02, 1.93226395e-04, 1.11340721e-02,\n",
       "       4.12917220e-01, 7.61759840e-01, 9.88776634e-02, 3.92338121e-01,\n",
       "       9.33738783e-01, 1.00000000e+00, 6.51032821e-01, 8.85651583e-02,\n",
       "       2.34861493e-01, 5.87089035e-01, 8.53716840e-01, 3.60303349e-01,\n",
       "       5.96160916e-01, 6.78506811e-01, 1.03839226e-01, 9.74885892e-01,\n",
       "       1.85690565e-01, 4.36245226e-01, 2.97562437e-01, 5.40293115e-01,\n",
       "       1.24156786e-01, 9.25210606e-01, 6.19144921e-01, 4.95596869e-02,\n",
       "       7.19709944e-01, 9.42960775e-02, 1.42765561e-01, 1.80642903e-01,\n",
       "       1.68500913e-01, 3.78219819e-01, 1.70582222e-01, 2.90709022e-01,\n",
       "       7.46033137e-01, 8.74075343e-01, 1.32147868e-01, 1.51325588e-01,\n",
       "       9.89078007e-01, 4.28765688e-01, 4.39590225e-01, 1.10737000e-01,\n",
       "       2.65611282e-01, 4.26020729e-02, 3.35462491e-01, 4.03497877e-01,\n",
       "       1.84060517e-01, 9.09629665e-02, 1.33068222e-01, 1.88057766e-01,\n",
       "       3.97632773e-01, 7.48217713e-01, 2.26365919e-01, 2.09651348e-01,\n",
       "       4.12646588e-01, 3.14487047e-02, 5.92780963e-02, 1.83699260e-01,\n",
       "       1.13132768e-01, 3.08693981e-01, 8.38605392e-01, 3.81074788e-01,\n",
       "       2.01628993e-01, 4.48925775e-02, 2.61718010e-01, 3.96305783e-01,\n",
       "       9.13900563e-01, 9.72807466e-01, 1.24453812e-01, 6.91055348e-01,\n",
       "       3.95245788e-01, 2.21383331e-01, 2.46014329e-01, 3.86554992e-01,\n",
       "       2.27168279e-01, 4.09675488e-01, 2.31606630e-01, 2.31403956e-01,\n",
       "       3.67162487e-01, 1.73831007e-02, 9.08271624e-01, 4.01627050e-01,\n",
       "       4.41827322e-01, 1.23415774e-01, 5.03127198e-02, 4.80434674e-01,\n",
       "       3.04115988e-02, 0.00000000e+00, 5.80009922e-01, 1.68155270e-01,\n",
       "       1.60134822e-01, 2.75691348e-01, 3.93622926e-02, 1.50507392e-01,\n",
       "       5.28961248e-02, 8.12579979e-01, 5.89673903e-01, 2.81918951e-01,\n",
       "       1.44201585e-01, 2.32621335e-01, 1.39128372e-01])"
      ]
     },
     "execution_count": 49,
     "metadata": {},
     "output_type": "execute_result"
    }
   ],
   "source": [
    "Xi_sqr"
   ]
  },
  {
   "cell_type": "code",
   "execution_count": 52,
   "metadata": {},
   "outputs": [
    {
     "name": "stdout",
     "output_type": "stream",
     "text": [
      "39.65221702003379\n"
     ]
    }
   ],
   "source": [
    "Xi_sqr_sum=sum(Xi_sqr)\n",
    "print(Xi_sqr_sum)"
   ]
  },
  {
   "cell_type": "code",
   "execution_count": 53,
   "metadata": {},
   "outputs": [
    {
     "name": "stdout",
     "output_type": "stream",
     "text": [
      "60.38395113732096\n"
     ]
    }
   ],
   "source": [
    "N_X_mean_sqr=len(X)*X_mean\n",
    "print(N_X_mean_sqr)"
   ]
  },
  {
   "cell_type": "code",
   "execution_count": 55,
   "metadata": {},
   "outputs": [
    {
     "name": "stdout",
     "output_type": "stream",
     "text": [
      "32.23143557749525\n"
     ]
    }
   ],
   "source": [
    "N_X_mean_Y_mean=len(X)*X_mean*Y_mean\n",
    "print(N_X_mean_Y_mean)"
   ]
  },
  {
   "cell_type": "code",
   "execution_count": 57,
   "metadata": {},
   "outputs": [
    {
     "name": "stdout",
     "output_type": "stream",
     "text": [
      "-0.26092430760099167\n"
     ]
    }
   ],
   "source": [
    "B=(sum_XiYi-N_X_mean_Y_mean)/(Xi_sqr_sum-N_X_mean_sqr)\n",
    "print(B)"
   ]
  },
  {
   "cell_type": "code",
   "execution_count": 59,
   "metadata": {},
   "outputs": [
    {
     "name": "stdout",
     "output_type": "stream",
     "text": [
      "0.6757175769693244\n"
     ]
    }
   ],
   "source": [
    "A=Y_mean-B*X_mean\n",
    "print(A)"
   ]
  },
  {
   "cell_type": "code",
   "execution_count": 64,
   "metadata": {},
   "outputs": [
    {
     "data": {
      "text/plain": [
       "[<matplotlib.lines.Line2D at 0x1d2f95d1d08>]"
      ]
     },
     "execution_count": 64,
     "metadata": {},
     "output_type": "execute_result"
    },
    {
     "data": {
      "image/png": "[encoded data removed]",
      "text/plain": [
       "<Figure size 432x288 with 1 Axes>"
      ]
     },
     "metadata": {
      "needs_background": "light"
     },
     "output_type": "display_data"
    }
   ],
   "source": [
    "plt.plot(X, B+A*X, linestyle='solid')"
   ]
  }
 ],
 "metadata": {
  "kernelspec": {
   "display_name": "Python 3",
   "language": "python",
   "name": "python3"
  },
  "language_info": {
   "codemirror_mode": {
    "name": "ipython",
    "version": 3
   },
   "file_extension": ".py",
   "mimetype": "text/x-python",
   "name": "python",
   "nbconvert_exporter": "python",
   "pygments_lexer": "ipython3",
   "version": "3.7.4"
  }
 },
 "nbformat": 4,
 "nbformat_minor": 5
}
