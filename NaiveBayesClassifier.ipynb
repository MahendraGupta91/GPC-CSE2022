{
 "cells": [
  {
   "cell_type": "code",
   "execution_count": 21,
   "metadata": {},
   "outputs": [],
   "source": [
    "import numpy as np\n",
    "import pandas as pd\n",
    "from collections import Counter"
   ]
  },
  {
   "cell_type": "code",
   "execution_count": 22,
   "metadata": {},
   "outputs": [],
   "source": [
    "weather=[]\n",
    "data=open(\"weather.txt\",'r', encoding=\"UTF-8\")\n",
    "for line in data:\n",
    "    line=line.strip()\n",
    "    line=line.split(',')\n",
    "    weather.append(line)\n",
    "    "
   ]
  },
  {
   "cell_type": "code",
   "execution_count": 23,
   "metadata": {},
   "outputs": [],
   "source": [
    "np.random.shuffle(weather)"
   ]
  },
  {
   "cell_type": "code",
   "execution_count": 24,
   "metadata": {},
   "outputs": [],
   "source": [
    "\n",
    "# Splitting the data into train and test\n",
    "array_weather=np.array(weather)\n",
    "Xtrain=array_weather[:-5,:-1]\n",
    "Ytrain=array_weather[:-5,-1]\n",
    "Xtest=array_weather[-5:,:-1]\n",
    "Ytest=array_weather[-5:,-1]\n"
   ]
  },
  {
   "cell_type": "code",
   "execution_count": 25,
   "metadata": {},
   "outputs": [
    {
     "data": {
      "text/plain": [
       "array([['rainy', 'mild', 'high', 'FALSE', 'yes'],\n",
       "       ['overcast', 'hot', 'normal', 'FALSE', 'yes'],\n",
       "       ['overcast', 'hot', 'high', 'FALSE', 'yes'],\n",
       "       ['rainy', 'cool', 'normal', 'FALSE', 'yes'],\n",
       "       ['sunny', 'hot', 'high', 'FALSE', 'no'],\n",
       "       ['overcast', 'mild', 'high', 'TRUE', 'yes'],\n",
       "       ['sunny', 'mild', 'normal', 'TRUE', 'yes'],\n",
       "       ['rainy', 'mild', 'high', 'TRUE', 'no'],\n",
       "       ['rainy', 'cool', 'normal', 'TRUE', 'no'],\n",
       "       ['sunny', 'mild', 'high', 'FALSE', 'no'],\n",
       "       ['overcast', 'cool', 'normal', 'TRUE', 'yes'],\n",
       "       ['rainy', 'mild', 'normal', 'FALSE', 'yes'],\n",
       "       ['sunny', 'hot', 'high', 'TRUE', 'no'],\n",
       "       ['sunny', 'cool', 'normal', 'FALSE', 'yes']], dtype='<U8')"
      ]
     },
     "execution_count": 25,
     "metadata": {},
     "output_type": "execute_result"
    }
   ],
   "source": [
    "array_weather\n"
   ]
  },
  {
   "cell_type": "code",
   "execution_count": 26,
   "metadata": {},
   "outputs": [
    {
     "data": {
      "text/plain": [
       "array([['rainy', 'mild', 'high', 'FALSE'],\n",
       "       ['overcast', 'hot', 'normal', 'FALSE'],\n",
       "       ['overcast', 'hot', 'high', 'FALSE'],\n",
       "       ['rainy', 'cool', 'normal', 'FALSE'],\n",
       "       ['sunny', 'hot', 'high', 'FALSE'],\n",
       "       ['overcast', 'mild', 'high', 'TRUE'],\n",
       "       ['sunny', 'mild', 'normal', 'TRUE'],\n",
       "       ['rainy', 'mild', 'high', 'TRUE'],\n",
       "       ['rainy', 'cool', 'normal', 'TRUE']], dtype='<U8')"
      ]
     },
     "execution_count": 26,
     "metadata": {},
     "output_type": "execute_result"
    }
   ],
   "source": [
    "Xtrain"
   ]
  },
  {
   "cell_type": "code",
   "execution_count": 27,
   "metadata": {},
   "outputs": [
    {
     "data": {
      "text/plain": [
       "array([['sunny', 'mild', 'high', 'FALSE'],\n",
       "       ['overcast', 'cool', 'normal', 'TRUE'],\n",
       "       ['rainy', 'mild', 'normal', 'FALSE'],\n",
       "       ['sunny', 'hot', 'high', 'TRUE'],\n",
       "       ['sunny', 'cool', 'normal', 'FALSE']], dtype='<U8')"
      ]
     },
     "execution_count": 27,
     "metadata": {},
     "output_type": "execute_result"
    }
   ],
   "source": [
    "Xtest"
   ]
  },
  {
   "cell_type": "code",
   "execution_count": 28,
   "metadata": {},
   "outputs": [
    {
     "data": {
      "text/plain": [
       "array(['yes', 'yes', 'yes', 'yes', 'no', 'yes', 'yes', 'no', 'no'],\n",
       "      dtype='<U8')"
      ]
     },
     "execution_count": 28,
     "metadata": {},
     "output_type": "execute_result"
    }
   ],
   "source": [
    "Ytrain"
   ]
  },
  {
   "cell_type": "code",
   "execution_count": 29,
   "metadata": {},
   "outputs": [
    {
     "data": {
      "text/plain": [
       "array(['no', 'yes', 'yes', 'no', 'yes'], dtype='<U8')"
      ]
     },
     "execution_count": 29,
     "metadata": {},
     "output_type": "execute_result"
    }
   ],
   "source": [
    "Ytest"
   ]
  },
  {
   "cell_type": "code",
   "execution_count": 30,
   "metadata": {},
   "outputs": [],
   "source": [
    "model={}\n",
    "\n",
    "def model_train_naiv(xtrain, ytrain):\n",
    "    \n",
    "    rows, col=xtrain.shape\n",
    "    for i in range(col):\n",
    "        Temp={}\n",
    "        #Y_Temp={}\n",
    "        for feature, label in zip(xtrain[:,i],ytrain):\n",
    "            #print(feature, label, \"\\n\")\n",
    "            if feature in Temp:\n",
    "                if label in Temp[feature]:\n",
    "                    Temp[feature][label]+=1\n",
    "                else:\n",
    "                    Temp[feature][label]=1\n",
    "                    #print(Temp)\n",
    "            else:\n",
    "                Temp[feature]={label:1}\n",
    "                #print(Temp)\n",
    "                \n",
    "        model[i]=Temp"
   ]
  },
  {
   "cell_type": "code",
   "execution_count": 31,
   "metadata": {},
   "outputs": [],
   "source": [
    "model_train_naiv(Xtrain,Ytrain)"
   ]
  },
  {
   "cell_type": "code",
   "execution_count": 211,
   "metadata": {},
   "outputs": [],
   "source": [
    "#model_train_naiv(array_weather[:,:-1],array_weather[:,-1])"
   ]
  },
  {
   "cell_type": "code",
   "execution_count": 12,
   "metadata": {},
   "outputs": [
    {
     "data": {
      "text/plain": [
       "array([['rainy', 'cool', 'normal', 'TRUE'],\n",
       "       ['sunny', 'mild', 'normal', 'TRUE'],\n",
       "       ['overcast', 'cool', 'normal', 'TRUE'],\n",
       "       ['rainy', 'mild', 'normal', 'FALSE'],\n",
       "       ['overcast', 'hot', 'high', 'FALSE'],\n",
       "       ['sunny', 'hot', 'high', 'FALSE'],\n",
       "       ['rainy', 'mild', 'high', 'TRUE'],\n",
       "       ['overcast', 'hot', 'normal', 'FALSE'],\n",
       "       ['sunny', 'hot', 'high', 'TRUE'],\n",
       "       ['rainy', 'mild', 'high', 'FALSE'],\n",
       "       ['sunny', 'cool', 'normal', 'FALSE'],\n",
       "       ['sunny', 'mild', 'high', 'FALSE'],\n",
       "       ['overcast', 'mild', 'high', 'TRUE'],\n",
       "       ['rainy', 'cool', 'normal', 'FALSE']], dtype='<U8')"
      ]
     },
     "execution_count": 12,
     "metadata": {},
     "output_type": "execute_result"
    }
   ],
   "source": [
    "array_weather[:,:-1]"
   ]
  },
  {
   "cell_type": "code",
   "execution_count": 14,
   "metadata": {},
   "outputs": [
    {
     "data": {
      "text/plain": [
       "array(['no', 'yes', 'yes', 'yes', 'yes', 'no', 'no', 'yes', 'no', 'yes',\n",
       "       'yes', 'no', 'yes', 'yes'], dtype='<U8')"
      ]
     },
     "execution_count": 14,
     "metadata": {},
     "output_type": "execute_result"
    }
   ],
   "source": [
    "array_weather[:,-1]"
   ]
  },
  {
   "cell_type": "code",
   "execution_count": 32,
   "metadata": {},
   "outputs": [],
   "source": [
    "Targets=set(Ytrain)\n",
    "n_training=len(Xtrain)\n",
    "Targets_count=dict(Counter(Ytrain))\n",
    "def predict(Vector):\n",
    "    Class_prob={}\n",
    "    class_prob_norm={}\n",
    "    for target in Targets:\n",
    "        prob=1\n",
    "        for i in range(len(Vector)):\n",
    "            feature=Vector[i]\n",
    "            if feature in model[i]:\n",
    "                if target in model[i][feature]:\n",
    "                    prob*=model[i][feature][target]/Targets_count[target]\n",
    "                else:\n",
    "                    prob=0\n",
    "            else:\n",
    "                prob=0\n",
    "        Class_prob[target]=prob*Targets_count[target]/n_training\n",
    "        \n",
    "    total_prob=0       \n",
    "    for target in Class_prob:\n",
    "        total_prob+=Class_prob[target]\n",
    "    for target in Class_prob:\n",
    "        class_prob_norm[target]=Class_prob[target]/total_prob\n",
    "    return class_prob_norm "
   ]
  },
  {
   "cell_type": "code",
   "execution_count": 33,
   "metadata": {},
   "outputs": [],
   "source": [
    "Vector=Xtrain[1]"
   ]
  },
  {
   "cell_type": "code",
   "execution_count": 34,
   "metadata": {},
   "outputs": [],
   "source": [
    "def test(Xtest,Ytest):\n",
    "    correct=0\n",
    "    incorrect=0\n",
    "    for v,t in zip(Xtest,Ytest):\n",
    "        pred_v=predict(v)\n",
    "        #print(pred_v,  t)\n",
    "        maximum=0\n",
    "        result=\"\"\n",
    "        for i in pred_v:\n",
    "            if pred_v[i]>maximum:                \n",
    "                maximum=pred_v[i]\n",
    "                #print(\"max=\",maximum, i,\"=\",pred_v[i] )\n",
    "                result=i\n",
    "                \n",
    "        if t==result:\n",
    "            correct+=1\n",
    "        else:\n",
    "            incorrect+=1\n",
    "           \n",
    "    \n",
    "    return (correct/(correct+incorrect))\n"
   ]
  },
  {
   "cell_type": "code",
   "execution_count": 35,
   "metadata": {},
   "outputs": [],
   "source": [
    "p=predict(Vector)"
   ]
  },
  {
   "cell_type": "code",
   "execution_count": 36,
   "metadata": {},
   "outputs": [
    {
     "data": {
      "text/plain": [
       "{'yes': 1.0, 'no': 0.0}"
      ]
     },
     "execution_count": 36,
     "metadata": {},
     "output_type": "execute_result"
    }
   ],
   "source": [
    "p"
   ]
  },
  {
   "cell_type": "code",
   "execution_count": 38,
   "metadata": {},
   "outputs": [],
   "source": [
    "#k=dict(a)"
   ]
  },
  {
   "cell_type": "code",
   "execution_count": 39,
   "metadata": {},
   "outputs": [],
   "source": [
    "Accuracy=test(array_weather[:,:-1],array_weather[:,-1])"
   ]
  },
  {
   "cell_type": "code",
   "execution_count": 40,
   "metadata": {},
   "outputs": [
    {
     "data": {
      "text/plain": [
       "0.8571428571428571"
      ]
     },
     "execution_count": 40,
     "metadata": {},
     "output_type": "execute_result"
    }
   ],
   "source": [
    "Accuracy"
   ]
  },
  {
   "cell_type": "code",
   "execution_count": 41,
   "metadata": {},
   "outputs": [
    {
     "data": {
      "text/plain": [
       "{0: {'rainy': {'yes': 2, 'no': 2},\n",
       "  'overcast': {'yes': 3},\n",
       "  'sunny': {'no': 1, 'yes': 1}},\n",
       " 1: {'mild': {'yes': 3, 'no': 1},\n",
       "  'hot': {'yes': 2, 'no': 1},\n",
       "  'cool': {'yes': 1, 'no': 1}},\n",
       " 2: {'high': {'yes': 3, 'no': 2}, 'normal': {'yes': 3, 'no': 1}},\n",
       " 3: {'FALSE': {'yes': 4, 'no': 1}, 'TRUE': {'yes': 2, 'no': 2}}}"
      ]
     },
     "execution_count": 41,
     "metadata": {},
     "output_type": "execute_result"
    }
   ],
   "source": [
    "model"
   ]
  },
  {
   "cell_type": "code",
   "execution_count": null,
   "metadata": {},
   "outputs": [],
   "source": []
  }
 ],
 "metadata": {
  "kernelspec": {
   "display_name": "Python 3",
   "language": "python",
   "name": "python3"
  },
  "language_info": {
   "codemirror_mode": {
    "name": "ipython",
    "version": 3
   },
   "file_extension": ".py",
   "mimetype": "text/x-python",
   "name": "python",
   "nbconvert_exporter": "python",
   "pygments_lexer": "ipython3",
   "version": "3.7.4"
  }
 },
 "nbformat": 4,
 "nbformat_minor": 2
}
