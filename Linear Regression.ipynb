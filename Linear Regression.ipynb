{
 "cells": [
  {
   "cell_type": "markdown",
   "id": "8ce50286",
   "metadata": {},
   "source": [
    "# Linear Regression\n"
   ]
  },
  {
   "cell_type": "code",
   "execution_count": 1,
   "id": "d061bab2",
   "metadata": {},
   "outputs": [],
   "source": [
    "import matplotlib.pyplot as plt"
   ]
  },
  {
   "cell_type": "code",
   "execution_count": 3,
   "id": "c4b4a534",
   "metadata": {},
   "outputs": [
    {
     "data": {
      "text/html": [
       "<div>\n",
       "<style scoped>\n",
       "    .dataframe tbody tr th:only-of-type {\n",
       "        vertical-align: middle;\n",
       "    }\n",
       "\n",
       "    .dataframe tbody tr th {\n",
       "        vertical-align: top;\n",
       "    }\n",
       "\n",
       "    .dataframe thead th {\n",
       "        text-align: right;\n",
       "    }\n",
       "</style>\n",
       "<table border=\"1\" class=\"dataframe\">\n",
       "  <thead>\n",
       "    <tr style=\"text-align: right;\">\n",
       "      <th></th>\n",
       "      <th>country</th>\n",
       "      <th>GDP</th>\n",
       "      <th>happyScore</th>\n",
       "      <th>region</th>\n",
       "      <th>avg_income</th>\n",
       "    </tr>\n",
       "  </thead>\n",
       "  <tbody>\n",
       "    <tr>\n",
       "      <th>0</th>\n",
       "      <td>Armenia</td>\n",
       "      <td>0.76821</td>\n",
       "      <td>4.350</td>\n",
       "      <td>'Central and Eastern Europe'</td>\n",
       "      <td>2096.760000</td>\n",
       "    </tr>\n",
       "    <tr>\n",
       "      <th>1</th>\n",
       "      <td>Angola</td>\n",
       "      <td>0.75778</td>\n",
       "      <td>4.033</td>\n",
       "      <td>'Sub-Saharan Africa'</td>\n",
       "      <td>1448.880000</td>\n",
       "    </tr>\n",
       "    <tr>\n",
       "      <th>2</th>\n",
       "      <td>Argentina</td>\n",
       "      <td>1.05351</td>\n",
       "      <td>6.574</td>\n",
       "      <td>'Latin America and Caribbean'</td>\n",
       "      <td>7101.120000</td>\n",
       "    </tr>\n",
       "    <tr>\n",
       "      <th>3</th>\n",
       "      <td>Austria</td>\n",
       "      <td>1.33723</td>\n",
       "      <td>7.200</td>\n",
       "      <td>'Western Europe'</td>\n",
       "      <td>19457.040000</td>\n",
       "    </tr>\n",
       "    <tr>\n",
       "      <th>4</th>\n",
       "      <td>Australia</td>\n",
       "      <td>1.33358</td>\n",
       "      <td>7.284</td>\n",
       "      <td>'Australia and New Zealand'</td>\n",
       "      <td>19917.000000</td>\n",
       "    </tr>\n",
       "    <tr>\n",
       "      <th>5</th>\n",
       "      <td>Azerbaijan</td>\n",
       "      <td>1.02389</td>\n",
       "      <td>5.212</td>\n",
       "      <td>'Central and Eastern Europe'</td>\n",
       "      <td>3381.600000</td>\n",
       "    </tr>\n",
       "    <tr>\n",
       "      <th>6</th>\n",
       "      <td>Bangladesh</td>\n",
       "      <td>0.39753</td>\n",
       "      <td>4.694</td>\n",
       "      <td>'Southern Asia'</td>\n",
       "      <td>1265.340000</td>\n",
       "    </tr>\n",
       "    <tr>\n",
       "      <th>7</th>\n",
       "      <td>Belgium</td>\n",
       "      <td>1.30782</td>\n",
       "      <td>6.937</td>\n",
       "      <td>'Western Europe'</td>\n",
       "      <td>17168.505000</td>\n",
       "    </tr>\n",
       "    <tr>\n",
       "      <th>8</th>\n",
       "      <td>Burkina Faso</td>\n",
       "      <td>0.25812</td>\n",
       "      <td>3.587</td>\n",
       "      <td>'Sub-Saharan Africa'</td>\n",
       "      <td>870.840000</td>\n",
       "    </tr>\n",
       "    <tr>\n",
       "      <th>9</th>\n",
       "      <td>Bulgaria</td>\n",
       "      <td>1.01216</td>\n",
       "      <td>4.218</td>\n",
       "      <td>'Central and Eastern Europe'</td>\n",
       "      <td>5354.820000</td>\n",
       "    </tr>\n",
       "    <tr>\n",
       "      <th>10</th>\n",
       "      <td>Burundi</td>\n",
       "      <td>0.01530</td>\n",
       "      <td>2.905</td>\n",
       "      <td>'Sub-Saharan Africa'</td>\n",
       "      <td>572.880000</td>\n",
       "    </tr>\n",
       "    <tr>\n",
       "      <th>11</th>\n",
       "      <td>Benin</td>\n",
       "      <td>0.28665</td>\n",
       "      <td>3.340</td>\n",
       "      <td>'Sub-Saharan Africa'</td>\n",
       "      <td>989.040000</td>\n",
       "    </tr>\n",
       "    <tr>\n",
       "      <th>12</th>\n",
       "      <td>Bolivia</td>\n",
       "      <td>0.68133</td>\n",
       "      <td>5.890</td>\n",
       "      <td>'Latin America and Caribbean'</td>\n",
       "      <td>3985.710000</td>\n",
       "    </tr>\n",
       "    <tr>\n",
       "      <th>13</th>\n",
       "      <td>Brazil</td>\n",
       "      <td>0.98124</td>\n",
       "      <td>6.983</td>\n",
       "      <td>'Latin America and Caribbean'</td>\n",
       "      <td>5567.235000</td>\n",
       "    </tr>\n",
       "    <tr>\n",
       "      <th>14</th>\n",
       "      <td>Botswana</td>\n",
       "      <td>0.99355</td>\n",
       "      <td>4.332</td>\n",
       "      <td>'Sub-Saharan Africa'</td>\n",
       "      <td>3484.680000</td>\n",
       "    </tr>\n",
       "    <tr>\n",
       "      <th>15</th>\n",
       "      <td>Belarus</td>\n",
       "      <td>1.03192</td>\n",
       "      <td>5.813</td>\n",
       "      <td>'Central and Eastern Europe'</td>\n",
       "      <td>5453.933333</td>\n",
       "    </tr>\n",
       "    <tr>\n",
       "      <th>16</th>\n",
       "      <td>Canada</td>\n",
       "      <td>1.32629</td>\n",
       "      <td>7.427</td>\n",
       "      <td>'North America'</td>\n",
       "      <td>20190.780000</td>\n",
       "    </tr>\n",
       "    <tr>\n",
       "      <th>17</th>\n",
       "      <td>Switzerland</td>\n",
       "      <td>1.39651</td>\n",
       "      <td>7.587</td>\n",
       "      <td>'Western Europe'</td>\n",
       "      <td>23400.040000</td>\n",
       "    </tr>\n",
       "    <tr>\n",
       "      <th>18</th>\n",
       "      <td>Chile</td>\n",
       "      <td>1.10715</td>\n",
       "      <td>6.670</td>\n",
       "      <td>'Latin America and Caribbean'</td>\n",
       "      <td>7557.990000</td>\n",
       "    </tr>\n",
       "    <tr>\n",
       "      <th>19</th>\n",
       "      <td>Cameroon</td>\n",
       "      <td>0.42250</td>\n",
       "      <td>4.252</td>\n",
       "      <td>'Sub-Saharan Africa'</td>\n",
       "      <td>1490.520000</td>\n",
       "    </tr>\n",
       "  </tbody>\n",
       "</table>\n",
       "</div>"
      ],
      "text/plain": [
       "         country      GDP  happyScore                         region  \\\n",
       "0        Armenia  0.76821       4.350   'Central and Eastern Europe'   \n",
       "1         Angola  0.75778       4.033           'Sub-Saharan Africa'   \n",
       "2      Argentina  1.05351       6.574  'Latin America and Caribbean'   \n",
       "3        Austria  1.33723       7.200               'Western Europe'   \n",
       "4      Australia  1.33358       7.284    'Australia and New Zealand'   \n",
       "5     Azerbaijan  1.02389       5.212   'Central and Eastern Europe'   \n",
       "6     Bangladesh  0.39753       4.694                'Southern Asia'   \n",
       "7        Belgium  1.30782       6.937               'Western Europe'   \n",
       "8   Burkina Faso  0.25812       3.587           'Sub-Saharan Africa'   \n",
       "9       Bulgaria  1.01216       4.218   'Central and Eastern Europe'   \n",
       "10       Burundi  0.01530       2.905           'Sub-Saharan Africa'   \n",
       "11         Benin  0.28665       3.340           'Sub-Saharan Africa'   \n",
       "12       Bolivia  0.68133       5.890  'Latin America and Caribbean'   \n",
       "13        Brazil  0.98124       6.983  'Latin America and Caribbean'   \n",
       "14      Botswana  0.99355       4.332           'Sub-Saharan Africa'   \n",
       "15       Belarus  1.03192       5.813   'Central and Eastern Europe'   \n",
       "16        Canada  1.32629       7.427                'North America'   \n",
       "17   Switzerland  1.39651       7.587               'Western Europe'   \n",
       "18         Chile  1.10715       6.670  'Latin America and Caribbean'   \n",
       "19      Cameroon  0.42250       4.252           'Sub-Saharan Africa'   \n",
       "\n",
       "      avg_income  \n",
       "0    2096.760000  \n",
       "1    1448.880000  \n",
       "2    7101.120000  \n",
       "3   19457.040000  \n",
       "4   19917.000000  \n",
       "5    3381.600000  \n",
       "6    1265.340000  \n",
       "7   17168.505000  \n",
       "8     870.840000  \n",
       "9    5354.820000  \n",
       "10    572.880000  \n",
       "11    989.040000  \n",
       "12   3985.710000  \n",
       "13   5567.235000  \n",
       "14   3484.680000  \n",
       "15   5453.933333  \n",
       "16  20190.780000  \n",
       "17  23400.040000  \n",
       "18   7557.990000  \n",
       "19   1490.520000  "
      ]
     },
     "execution_count": 3,
     "metadata": {},
     "output_type": "execute_result"
    }
   ],
   "source": [
    "import pandas as pd\n",
    "import numpy as np\n",
    "import matplotlib as mpl\n",
    "import matplotlib.pyplot as plt\n",
    "from matplotlib.pyplot import figure\n",
    "\n",
    "# import dataset\n",
    "df = pd.read_csv(\"https://raw.githubusercontent.com/softhints/dataplotplus/master/data/happyscore_income.csv\")\n",
    "\n",
    "df[['country', 'GDP', 'happyScore', 'region', 'avg_income']].head(20)"
   ]
  },
  {
   "cell_type": "code",
   "execution_count": 10,
   "id": "bd64b760",
   "metadata": {},
   "outputs": [],
   "source": [
    "import random\n",
    "a=range(10)"
   ]
  },
  {
   "cell_type": "code",
   "execution_count": 16,
   "id": "7c0a69bc",
   "metadata": {},
   "outputs": [],
   "source": [
    "x=[2,4,4,6,7,8,9,12]\n",
    "y=[5,23,45,65,12,44,33,77]"
   ]
  },
  {
   "cell_type": "code",
   "execution_count": 18,
   "id": "23a0c79c",
   "metadata": {},
   "outputs": [
    {
     "data": {
      "text/plain": [
       "8"
      ]
     },
     "execution_count": 18,
     "metadata": {},
     "output_type": "execute_result"
    }
   ],
   "source": [
    "#len(x)\n",
    "len(y)"
   ]
  },
  {
   "cell_type": "code",
   "execution_count": 36,
   "id": "b7f35294",
   "metadata": {},
   "outputs": [
    {
     "data": {
      "text/plain": [
       "<Figure size 1000x1000 with 0 Axes>"
      ]
     },
     "execution_count": 36,
     "metadata": {},
     "output_type": "execute_result"
    },
    {
     "data": {
      "text/plain": [
       "<Figure size 1000x1000 with 0 Axes>"
      ]
     },
     "metadata": {},
     "output_type": "display_data"
    }
   ],
   "source": [
    "figure(num=None, figsize=(10, 10), dpi=100, facecolor='w', edgecolor='k')"
   ]
  },
  {
   "cell_type": "code",
   "execution_count": 22,
   "id": "a0295db3",
   "metadata": {},
   "outputs": [],
   "source": [
    "col_x = 'happyScore'\n",
    "col_y = 'GDP'"
   ]
  },
  {
   "cell_type": "code",
   "execution_count": 24,
   "id": "dd80c18f",
   "metadata": {},
   "outputs": [
    {
     "name": "stdout",
     "output_type": "stream",
     "text": [
      "5.421909909909911 1.1808005493158176\n",
      "0.8419090990990992 0.38759050431315567\n"
     ]
    }
   ],
   "source": [
    "# calculate the standard deviation and the mean\n",
    "x_mean = df[col_x].mean()\n",
    "x_stdev = df[col_x].std()\n",
    "\n",
    "y_mean = df[col_y].mean()\n",
    "y_stdev = df[col_y].std()\n",
    "\n",
    "print(x_mean, x_stdev)\n",
    "print(y_mean, y_stdev)"
   ]
  },
  {
   "cell_type": "code",
   "execution_count": 28,
   "id": "22f95668",
   "metadata": {},
   "outputs": [],
   "source": [
    "# calculate the normalised values on x and y\n",
    "x_min = min(df[col_x])\n",
    "x_max = max(df[col_x])\n",
    "\n",
    "norm_x = ((df[col_x] - x_min)/(x_max - x_min))\n",
    "df['norm_x'] = norm_x\n",
    "\n",
    "y_min = min(df[col_y])\n",
    "y_max = max(df[col_y])\n",
    "\n",
    "norm_y = ((df[col_y] - y_min)/(y_max - y_min))\n",
    "df['norm_y'] = norm_y"
   ]
  },
  {
   "cell_type": "code",
   "execution_count": 37,
   "id": "2e77c9c5",
   "metadata": {},
   "outputs": [
    {
     "data": {
      "text/plain": [
       "Text(0.5, 1.0, 'Kmeans Scatterplot of World Happiness vs GDP')"
      ]
     },
     "execution_count": 37,
     "metadata": {},
     "output_type": "execute_result"
    },
    {
     "data": {
      "image/png": "[encoded data removed]",
      "text/plain": [
       "<Figure size 432x288 with 1 Axes>"
      ]
     },
     "metadata": {
      "needs_background": "light"
     },
     "output_type": "display_data"
    }
   ],
   "source": [
    "plt.xlabel(col_x)\n",
    "plt.ylabel(col_y)\n",
    "\n",
    "plt.scatter(df.norm_x, df.norm_y, alpha = 0.25, s = 100, color='GREEN')\n",
    "plt.title(\"Kmeans Scatterplot of World Happiness vs GDP\", fontsize=18)"
   ]
  },
  {
   "cell_type": "code",
   "execution_count": 40,
   "id": "8091e588",
   "metadata": {},
   "outputs": [
    {
     "ename": "AttributeError",
     "evalue": "module 'pandas' has no attribute 'dataframe'",
     "output_type": "error",
     "traceback": [
      "\u001b[1;31m---------------------------------------------------------------------------\u001b[0m",
      "\u001b[1;31mAttributeError\u001b[0m                            Traceback (most recent call last)",
      "\u001b[1;32m~\\AppData\\Local\\Temp/ipykernel_6136/422503143.py\u001b[0m in \u001b[0;36m<module>\u001b[1;34m\u001b[0m\n\u001b[1;32m----> 1\u001b[1;33m \u001b[0mdf_data\u001b[0m\u001b[1;33m=\u001b[0m\u001b[0mpd\u001b[0m\u001b[1;33m.\u001b[0m\u001b[0mdataframe\u001b[0m\u001b[1;33m(\u001b[0m\u001b[0mnorm_x\u001b[0m\u001b[1;33m,\u001b[0m\u001b[0mnorm_y\u001b[0m\u001b[1;33m)\u001b[0m\u001b[1;33m\u001b[0m\u001b[1;33m\u001b[0m\u001b[0m\n\u001b[0m",
      "\u001b[1;32m~\\anaconda3\\lib\\site-packages\\pandas\\__init__.py\u001b[0m in \u001b[0;36m__getattr__\u001b[1;34m(name)\u001b[0m\n\u001b[0;32m    242\u001b[0m         \u001b[1;32mreturn\u001b[0m \u001b[0m_SparseArray\u001b[0m\u001b[1;33m\u001b[0m\u001b[1;33m\u001b[0m\u001b[0m\n\u001b[0;32m    243\u001b[0m \u001b[1;33m\u001b[0m\u001b[0m\n\u001b[1;32m--> 244\u001b[1;33m     \u001b[1;32mraise\u001b[0m \u001b[0mAttributeError\u001b[0m\u001b[1;33m(\u001b[0m\u001b[1;34mf\"module 'pandas' has no attribute '{name}'\"\u001b[0m\u001b[1;33m)\u001b[0m\u001b[1;33m\u001b[0m\u001b[1;33m\u001b[0m\u001b[0m\n\u001b[0m\u001b[0;32m    245\u001b[0m \u001b[1;33m\u001b[0m\u001b[0m\n\u001b[0;32m    246\u001b[0m \u001b[1;33m\u001b[0m\u001b[0m\n",
      "\u001b[1;31mAttributeError\u001b[0m: module 'pandas' has no attribute 'dataframe'"
     ]
    }
   ],
   "source": [
    "df_data=pd.dataframe(norm_x,norm_y)"
   ]
  },
  {
   "cell_type": "code",
   "execution_count": 48,
   "id": "14876e93",
   "metadata": {},
   "outputs": [
    {
     "data": {
      "text/html": [
       "<div>\n",
       "<style scoped>\n",
       "    .dataframe tbody tr th:only-of-type {\n",
       "        vertical-align: middle;\n",
       "    }\n",
       "\n",
       "    .dataframe tbody tr th {\n",
       "        vertical-align: top;\n",
       "    }\n",
       "\n",
       "    .dataframe thead th {\n",
       "        text-align: right;\n",
       "    }\n",
       "</style>\n",
       "<table border=\"1\" class=\"dataframe\">\n",
       "  <thead>\n",
       "    <tr style=\"text-align: right;\">\n",
       "      <th></th>\n",
       "      <th>happyScore</th>\n",
       "      <th>GDP</th>\n",
       "    </tr>\n",
       "  </thead>\n",
       "  <tbody>\n",
       "    <tr>\n",
       "      <th>0</th>\n",
       "      <td>0.318239</td>\n",
       "      <td>0.486184</td>\n",
       "    </tr>\n",
       "    <tr>\n",
       "      <th>1</th>\n",
       "      <td>0.251474</td>\n",
       "      <td>0.479449</td>\n",
       "    </tr>\n",
       "    <tr>\n",
       "      <th>2</th>\n",
       "      <td>0.786647</td>\n",
       "      <td>0.670414</td>\n",
       "    </tr>\n",
       "    <tr>\n",
       "      <th>3</th>\n",
       "      <td>0.918492</td>\n",
       "      <td>0.853624</td>\n",
       "    </tr>\n",
       "    <tr>\n",
       "      <th>4</th>\n",
       "      <td>0.936184</td>\n",
       "      <td>0.851267</td>\n",
       "    </tr>\n",
       "    <tr>\n",
       "      <th>...</th>\n",
       "      <td>...</td>\n",
       "      <td>...</td>\n",
       "    </tr>\n",
       "    <tr>\n",
       "      <th>106</th>\n",
       "      <td>0.767902</td>\n",
       "      <td>0.675677</td>\n",
       "    </tr>\n",
       "    <tr>\n",
       "      <th>107</th>\n",
       "      <td>0.530960</td>\n",
       "      <td>0.398331</td>\n",
       "    </tr>\n",
       "    <tr>\n",
       "      <th>108</th>\n",
       "      <td>0.379739</td>\n",
       "      <td>0.584518</td>\n",
       "    </tr>\n",
       "    <tr>\n",
       "      <th>109</th>\n",
       "      <td>0.482308</td>\n",
       "      <td>0.293864</td>\n",
       "    </tr>\n",
       "    <tr>\n",
       "      <th>110</th>\n",
       "      <td>0.372999</td>\n",
       "      <td>0.165116</td>\n",
       "    </tr>\n",
       "  </tbody>\n",
       "</table>\n",
       "<p>111 rows × 2 columns</p>\n",
       "</div>"
      ],
      "text/plain": [
       "     happyScore       GDP\n",
       "0      0.318239  0.486184\n",
       "1      0.251474  0.479449\n",
       "2      0.786647  0.670414\n",
       "3      0.918492  0.853624\n",
       "4      0.936184  0.851267\n",
       "..          ...       ...\n",
       "106    0.767902  0.675677\n",
       "107    0.530960  0.398331\n",
       "108    0.379739  0.584518\n",
       "109    0.482308  0.293864\n",
       "110    0.372999  0.165116\n",
       "\n",
       "[111 rows x 2 columns]"
      ]
     },
     "execution_count": 48,
     "metadata": {},
     "output_type": "execute_result"
    }
   ],
   "source": [
    "pd.DataFrame([norm_x,norm_y]).transpose()"
   ]
  }
 ],
 "metadata": {
  "kernelspec": {
   "display_name": "Python 3 (ipykernel)",
   "language": "python",
   "name": "python3"
  },
  "language_info": {
   "codemirror_mode": {
    "name": "ipython",
    "version": 3
   },
   "file_extension": ".py",
   "mimetype": "text/x-python",
   "name": "python",
   "nbconvert_exporter": "python",
   "pygments_lexer": "ipython3",
   "version": "3.9.7"
  }
 },
 "nbformat": 4,
 "nbformat_minor": 5
}
