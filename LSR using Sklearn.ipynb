{
 "cells": [
  {
   "cell_type": "markdown",
   "id": "ef1db5d8",
   "metadata": {},
   "source": [
    "# LSR using Sklearn"
   ]
  },
  {
   "cell_type": "code",
   "execution_count": 2,
   "id": "d646311a",
   "metadata": {},
   "outputs": [],
   "source": [
    "import pandas as pd\n",
    "import numpy as np\n",
    "import matplotlib as mpl\n",
    "import matplotlib.pyplot as plt\n",
    "from matplotlib.pyplot import figure\n"
   ]
  },
  {
   "cell_type": "code",
   "execution_count": 4,
   "id": "cbb5865d",
   "metadata": {},
   "outputs": [],
   "source": [
    "from sklearn.linear_model import LinearRegression\n",
    "model = LinearRegression()"
   ]
  },
  {
   "cell_type": "code",
   "execution_count": 6,
   "id": "d8ee7d8b",
   "metadata": {},
   "outputs": [],
   "source": [
    "# Getting Data from Cloud\n",
    "df = pd.read_csv(\"https://raw.githubusercontent.com/softhints/dataplotplus/master/data/happyscore_income.csv\")"
   ]
  },
  {
   "cell_type": "code",
   "execution_count": 8,
   "id": "fcf22081",
   "metadata": {},
   "outputs": [
    {
     "data": {
      "text/html": [
       "<div>\n",
       "<style scoped>\n",
       "    .dataframe tbody tr th:only-of-type {\n",
       "        vertical-align: middle;\n",
       "    }\n",
       "\n",
       "    .dataframe tbody tr th {\n",
       "        vertical-align: top;\n",
       "    }\n",
       "\n",
       "    .dataframe thead th {\n",
       "        text-align: right;\n",
       "    }\n",
       "</style>\n",
       "<table border=\"1\" class=\"dataframe\">\n",
       "  <thead>\n",
       "    <tr style=\"text-align: right;\">\n",
       "      <th></th>\n",
       "      <th>GDP</th>\n",
       "    </tr>\n",
       "  </thead>\n",
       "  <tbody>\n",
       "    <tr>\n",
       "      <th>0</th>\n",
       "      <td>0.76821</td>\n",
       "    </tr>\n",
       "    <tr>\n",
       "      <th>1</th>\n",
       "      <td>0.75778</td>\n",
       "    </tr>\n",
       "    <tr>\n",
       "      <th>2</th>\n",
       "      <td>1.05351</td>\n",
       "    </tr>\n",
       "    <tr>\n",
       "      <th>3</th>\n",
       "      <td>1.33723</td>\n",
       "    </tr>\n",
       "    <tr>\n",
       "      <th>4</th>\n",
       "      <td>1.33358</td>\n",
       "    </tr>\n",
       "  </tbody>\n",
       "</table>\n",
       "</div>"
      ],
      "text/plain": [
       "       GDP\n",
       "0  0.76821\n",
       "1  0.75778\n",
       "2  1.05351\n",
       "3  1.33723\n",
       "4  1.33358"
      ]
     },
     "execution_count": 8,
     "metadata": {},
     "output_type": "execute_result"
    }
   ],
   "source": [
    "df_x=df[[\"happyScore\"]]\n",
    "df_y=df[[\"GDP\"]]\n",
    "df_y.head()"
   ]
  },
  {
   "cell_type": "code",
   "execution_count": 10,
   "id": "6336e0b1",
   "metadata": {},
   "outputs": [],
   "source": [
    "X=np.array(df_x)\n",
    "Y=np.array(df_y)"
   ]
  },
  {
   "cell_type": "code",
   "execution_count": 16,
   "id": "1375a5c2",
   "metadata": {},
   "outputs": [
    {
     "data": {
      "text/plain": [
       "LinearRegression()"
      ]
     },
     "execution_count": 16,
     "metadata": {},
     "output_type": "execute_result"
    }
   ],
   "source": [
    "model.fit(X, Y)"
   ]
  },
  {
   "cell_type": "code",
   "execution_count": 17,
   "id": "5fa1e7fa",
   "metadata": {},
   "outputs": [
    {
     "data": {
      "text/plain": [
       "array([[4.35 ],\n",
       "       [4.033],\n",
       "       [6.574],\n",
       "       [7.2  ],\n",
       "       [7.284],\n",
       "       [5.212],\n",
       "       [4.694],\n",
       "       [6.937],\n",
       "       [3.587],\n",
       "       [4.218],\n",
       "       [2.905],\n",
       "       [3.34 ],\n",
       "       [5.89 ],\n",
       "       [6.983],\n",
       "       [4.332],\n",
       "       [5.813],\n",
       "       [7.427],\n",
       "       [7.587],\n",
       "       [6.67 ],\n",
       "       [4.252],\n",
       "       [5.14 ],\n",
       "       [6.477],\n",
       "       [7.226],\n",
       "       [5.689],\n",
       "       [6.505],\n",
       "       [6.75 ],\n",
       "       [4.369],\n",
       "       [7.527],\n",
       "       [4.885],\n",
       "       [5.975],\n",
       "       [5.429],\n",
       "       [6.329],\n",
       "       [4.512],\n",
       "       [7.406],\n",
       "       [6.575],\n",
       "       [3.896],\n",
       "       [6.867],\n",
       "       [4.297],\n",
       "       [4.633],\n",
       "       [4.857],\n",
       "       [4.788],\n",
       "       [5.759],\n",
       "       [4.8  ],\n",
       "       [5.399],\n",
       "       [6.94 ],\n",
       "       [7.278],\n",
       "       [4.565],\n",
       "       [4.686],\n",
       "       [7.561],\n",
       "       [5.948],\n",
       "       [5.987],\n",
       "       [4.419],\n",
       "       [5.286],\n",
       "       [3.819],\n",
       "       [5.589],\n",
       "       [5.855],\n",
       "       [4.876],\n",
       "       [4.271],\n",
       "       [4.571],\n",
       "       [4.898],\n",
       "       [5.833],\n",
       "       [6.946],\n",
       "       [5.098],\n",
       "       [5.013],\n",
       "       [5.889],\n",
       "       [3.681],\n",
       "       [3.995],\n",
       "       [4.874],\n",
       "       [4.436],\n",
       "       [5.477],\n",
       "       [7.187],\n",
       "       [5.77 ],\n",
       "       [4.971],\n",
       "       [3.845],\n",
       "       [5.268],\n",
       "       [5.828],\n",
       "       [7.378],\n",
       "       [7.522],\n",
       "       [4.514],\n",
       "       [6.786],\n",
       "       [5.824],\n",
       "       [5.073],\n",
       "       [5.194],\n",
       "       [5.791],\n",
       "       [5.102],\n",
       "       [5.878],\n",
       "       [5.124],\n",
       "       [5.123],\n",
       "       [5.716],\n",
       "       [3.465],\n",
       "       [7.364],\n",
       "       [5.848],\n",
       "       [5.995],\n",
       "       [4.507],\n",
       "       [3.904],\n",
       "       [6.13 ],\n",
       "       [3.667],\n",
       "       [2.839],\n",
       "       [6.455],\n",
       "       [4.786],\n",
       "       [4.739],\n",
       "       [5.332],\n",
       "       [3.781],\n",
       "       [4.681],\n",
       "       [3.931],\n",
       "       [7.119],\n",
       "       [6.485],\n",
       "       [5.36 ],\n",
       "       [4.642],\n",
       "       [5.129],\n",
       "       [4.61 ]])"
      ]
     },
     "execution_count": 17,
     "metadata": {},
     "output_type": "execute_result"
    }
   ],
   "source": [
    "X"
   ]
  },
  {
   "cell_type": "code",
   "execution_count": 20,
   "id": "118194b6",
   "metadata": {},
   "outputs": [
    {
     "data": {
      "text/plain": [
       "array([[1.22522609]])"
      ]
     },
     "execution_count": 20,
     "metadata": {},
     "output_type": "execute_result"
    }
   ],
   "source": [
    "model.predict([[6.9]])"
   ]
  }
 ],
 "metadata": {
  "kernelspec": {
   "display_name": "Python 3 (ipykernel)",
   "language": "python",
   "name": "python3"
  },
  "language_info": {
   "codemirror_mode": {
    "name": "ipython",
    "version": 3
   },
   "file_extension": ".py",
   "mimetype": "text/x-python",
   "name": "python",
   "nbconvert_exporter": "python",
   "pygments_lexer": "ipython3",
   "version": "3.9.7"
  }
 },
 "nbformat": 4,
 "nbformat_minor": 5
}
